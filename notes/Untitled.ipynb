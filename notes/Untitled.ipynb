{
 "cells": [
  {
   "cell_type": "code",
   "execution_count": 68,
   "metadata": {
    "collapsed": true
   },
   "outputs": [],
   "source": [
    "%matplotlib inline\n",
    "\n",
    "import matplotlib.pyplot as plt\n",
    "import numpy as np\n",
    "import random\n",
    "\n",
    "LINE_WIDTH=2.5\n",
    "MARKER_SIZE=10\n",
    "MARKER_STYLE='.'\n",
    "DOT_STYLE=':'\n",
    "SOLID_STYLE='-'\n",
    "FONT_SIZE=24\n",
    "args = {\"ls\":SOLID_STYLE, \"lw\":LINE_WIDTH, \"marker\":MARKER_STYLE, \"markersize\":MARKER_SIZE}\n",
    "\n",
    "def addLine(p1, p2, **kwargs):    \n",
    "    data = zip(p1,p2)\n",
    "    line = plt.Line2D(data[0], data[1], **kwargs)\n",
    "    plt.gca().add_line(line)"
   ]
  },
  {
   "cell_type": "markdown",
   "metadata": {},
   "source": [
    "## Hex geometry ##"
   ]
  },
  {
   "cell_type": "markdown",
   "metadata": {},
   "source": [
    "Equilibrium triangles"
   ]
  },
  {
   "cell_type": "markdown",
   "metadata": {},
   "source": [
    "## Hex indexing ##"
   ]
  },
  {
   "cell_type": "markdown",
   "metadata": {},
   "source": [
    "Converting between flat indexing and cell indexing"
   ]
  },
  {
   "cell_type": "markdown",
   "metadata": {},
   "source": [
    "Vertex buffers"
   ]
  },
  {
   "cell_type": "markdown",
   "metadata": {},
   "source": [
    "Computing neighbors"
   ]
  },
  {
   "cell_type": "markdown",
   "metadata": {},
   "source": [
    "## Converting from pixel to hex ##"
   ]
  },
  {
   "cell_type": "markdown",
   "metadata": {},
   "source": [
    "## Generating labrynths ##"
   ]
  },
  {
   "cell_type": "markdown",
   "metadata": {},
   "source": [
    "## Shuffling array items in place ##"
   ]
  },
  {
   "cell_type": "markdown",
   "metadata": {},
   "source": [
    "## Vortex effect ##"
   ]
  },
  {
   "cell_type": "markdown",
   "metadata": {},
   "source": [
    "## Path following ##"
   ]
  },
  {
   "cell_type": "markdown",
   "metadata": {},
   "source": [
    "## Drawing lines ##"
   ]
  },
  {
   "cell_type": "raw",
   "metadata": {},
   "source": [
    "Line width is not generally supported in webGL. To draw lines with thickness greater than 1, you need to draw a poly ribbon"
   ]
  },
  {
   "cell_type": "code",
   "execution_count": 69,
   "metadata": {
    "collapsed": false
   },
   "outputs": [
    {
     "data": {
      "image/png": "[encoded data removed]",
      "text/plain": [
       "<matplotlib.figure.Figure at 0x6fff9237ad0>"
      ]
     },
     "metadata": {},
     "output_type": "display_data"
    }
   ],
   "source": [
    "ax = plt.axes()\n",
    "\n",
    "p1 = np.array([1,1])\n",
    "p2 = np.array([10,6])\n",
    "addLine(p1, p2, **args)\n",
    "\n",
    "length = 3\n",
    "dir = p2 - p1\n",
    "n = np.array([-dir[1], dir[0]])\n",
    "n = n / np.linalg.norm(n)\n",
    "\n",
    "midpoint = p1 + 0.5 * dir\n",
    "textpoint = midpoint + 2*n\n",
    "ax.arrow(midpoint[0], midpoint[1], n[0], n[1], lw=2.5, head_width=0.1, head_length=0.1, fc='k', ec='k')\n",
    "ax.text(textpoint[0], textpoint[1], ' $n$', fontsize=FONT_SIZE)\n",
    "ax.text(p1[0], p1[1], ' $p_1$', fontsize=24)\n",
    "ax.text(p2[0], p2[1], ' $p_2$', fontsize=24)\n",
    "\n",
    "p1a = p1 + length * n\n",
    "p1b = p1 - length * n\n",
    "\n",
    "p2a = p2 + length * n\n",
    "p2b = p2 - length * n\n",
    "\n",
    "args[\"ls\"] = DOT_STYLE\n",
    "addLine(p1a, p1b, **args)\n",
    "addLine(p2a, p2b, **args)\n",
    "addLine(p1a,p2a, **args)\n",
    "addLine(p1b,p2b, **args)\n",
    "\n",
    "ax.text(p1a[0], p1a[1], ' $p_1^a$', fontsize=FONT_SIZE)\n",
    "ax.text(p1b[0], p1b[1], ' $p_1^b$', fontsize=FONT_SIZE)\n",
    "ax.text(p2a[0], p2a[1], ' $p_2^a$', fontsize=FONT_SIZE)\n",
    "ax.text(p2b[0], p2b[1], ' $p_2^b$', fontsize=FONT_SIZE)\n",
    "\n",
    "plt.axis([-2, 15, -4, 12])\n",
    "plt.show()"
   ]
  },
  {
   "cell_type": "markdown",
   "metadata": {},
   "source": [
    "http://www.redblobgames.com/grids/hexagons/"
   ]
  }
 ],
 "metadata": {
  "kernelspec": {
   "display_name": "Python 2",
   "language": "python",
   "name": "python2"
  },
  "language_info": {
   "codemirror_mode": {
    "name": "ipython",
    "version": 2
   },
   "file_extension": ".py",
   "mimetype": "text/x-python",
   "name": "python",
   "nbconvert_exporter": "python",
   "pygments_lexer": "ipython2",
   "version": "2.7.12"
  }
 },
 "nbformat": 4,
 "nbformat_minor": 1
}
